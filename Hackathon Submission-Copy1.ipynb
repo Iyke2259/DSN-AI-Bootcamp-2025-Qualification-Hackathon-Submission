{
 "cells": [
  {
   "cell_type": "code",
   "execution_count": 3,
   "id": "83c2c542-c575-4efc-919b-c679e326bf8f",
   "metadata": {},
   "outputs": [],
   "source": [
    "import pandas as pd\n",
    "import numpy as np\n",
    "import matplotlib.pyplot as plt\n",
    "import seaborn as sns\n",
    "\n",
    "from sklearn.model_selection import StratifiedKFold, KFold, train_test_split\n",
    "from sklearn.compose import ColumnTransformer\n",
    "from sklearn.pipeline import Pipeline\n",
    "from sklearn.preprocessing import StandardScaler,OneHotEncoder\n",
    "from sklearn.impute import SimpleImputer\n",
    "from feature_engine.datetime import DatetimeFeatures\n",
    "from feature_engine.encoding import OrdinalEncoder, mean_encoding, MeanEncoder\n",
    "from sklearn.metrics import mean_squared_error\n",
    "\n",
    "from sklearn.ensemble import RandomForestRegressor, StackingRegressor\n",
    "from sklearn.linear_model import LinearRegression\n",
    "from xgboost import XGBRegressor\n",
    "from lightgbm import LGBMRegressor\n",
    "from catboost import CatBoostRegressor\n",
    "from sklearn.tree import DecisionTreeRegressor"
   ]
  },
  {
   "cell_type": "markdown",
   "id": "059b2eab-2811-48cd-a202-5c5fab856f7b",
   "metadata": {},
   "source": [
    "### Reading Data"
   ]
  },
  {
   "cell_type": "code",
   "execution_count": 19,
   "id": "0e997443-2f50-42e4-bd3d-e324952d7f3b",
   "metadata": {},
   "outputs": [
    {
     "name": "stdout",
     "output_type": "stream",
     "text": [
      "Train shape: (188533, 13)\n",
      "Test shape: (125690, 12)\n"
     ]
    },
    {
     "data": {
      "text/html": [
       "<div>\n",
       "<style scoped>\n",
       "    .dataframe tbody tr th:only-of-type {\n",
       "        vertical-align: middle;\n",
       "    }\n",
       "\n",
       "    .dataframe tbody tr th {\n",
       "        vertical-align: top;\n",
       "    }\n",
       "\n",
       "    .dataframe thead th {\n",
       "        text-align: right;\n",
       "    }\n",
       "</style>\n",
       "<table border=\"1\" class=\"dataframe\">\n",
       "  <thead>\n",
       "    <tr style=\"text-align: right;\">\n",
       "      <th></th>\n",
       "      <th>id</th>\n",
       "      <th>brand</th>\n",
       "      <th>model</th>\n",
       "      <th>model_year</th>\n",
       "      <th>milage</th>\n",
       "      <th>fuel_type</th>\n",
       "      <th>engine</th>\n",
       "      <th>transmission</th>\n",
       "      <th>ext_col</th>\n",
       "      <th>int_col</th>\n",
       "      <th>accident</th>\n",
       "      <th>clean_title</th>\n",
       "      <th>price</th>\n",
       "    </tr>\n",
       "  </thead>\n",
       "  <tbody>\n",
       "    <tr>\n",
       "      <th>0</th>\n",
       "      <td>0</td>\n",
       "      <td>MINI</td>\n",
       "      <td>Cooper S Base</td>\n",
       "      <td>2007</td>\n",
       "      <td>213000</td>\n",
       "      <td>Gasoline</td>\n",
       "      <td>172.0HP 1.6L 4 Cylinder Engine Gasoline Fuel</td>\n",
       "      <td>A/T</td>\n",
       "      <td>Yellow</td>\n",
       "      <td>Gray</td>\n",
       "      <td>None reported</td>\n",
       "      <td>Yes</td>\n",
       "      <td>4200</td>\n",
       "    </tr>\n",
       "    <tr>\n",
       "      <th>1</th>\n",
       "      <td>1</td>\n",
       "      <td>Lincoln</td>\n",
       "      <td>LS V8</td>\n",
       "      <td>2002</td>\n",
       "      <td>143250</td>\n",
       "      <td>Gasoline</td>\n",
       "      <td>252.0HP 3.9L 8 Cylinder Engine Gasoline Fuel</td>\n",
       "      <td>A/T</td>\n",
       "      <td>Silver</td>\n",
       "      <td>Beige</td>\n",
       "      <td>At least 1 accident or damage reported</td>\n",
       "      <td>Yes</td>\n",
       "      <td>4999</td>\n",
       "    </tr>\n",
       "  </tbody>\n",
       "</table>\n",
       "</div>"
      ],
      "text/plain": [
       "   id    brand          model  model_year  milage fuel_type  \\\n",
       "0   0     MINI  Cooper S Base        2007  213000  Gasoline   \n",
       "1   1  Lincoln          LS V8        2002  143250  Gasoline   \n",
       "\n",
       "                                         engine transmission ext_col int_col  \\\n",
       "0  172.0HP 1.6L 4 Cylinder Engine Gasoline Fuel          A/T  Yellow    Gray   \n",
       "1  252.0HP 3.9L 8 Cylinder Engine Gasoline Fuel          A/T  Silver   Beige   \n",
       "\n",
       "                                 accident clean_title  price  \n",
       "0                           None reported         Yes   4200  \n",
       "1  At least 1 accident or damage reported         Yes   4999  "
      ]
     },
     "metadata": {},
     "output_type": "display_data"
    }
   ],
   "source": [
    "train_data = pd.read_csv(\"C:/Users/IKECHUKWU_OKWUOSA/Desktop/Code Review/DSN Bootcamp Qualification Hackathon Qualification/archive/train.csv\")\n",
    "train = train_data.copy()\n",
    "test_data = pd.read_csv(\"C:/Users/IKECHUKWU_OKWUOSA/Desktop/Code Review/DSN Bootcamp Qualification Hackathon Qualification/archive/test.csv\")\n",
    "test = test_data.copy()\n",
    "print(\"Train shape:\", train.shape)\n",
    "print(\"Test shape:\", test.shape)\n",
    "display(train.head(2))"
   ]
  },
  {
   "cell_type": "code",
   "execution_count": 5,
   "id": "d79b1800-a6d7-40bb-93ac-8d9621856b57",
   "metadata": {},
   "outputs": [
    {
     "name": "stdout",
     "output_type": "stream",
     "text": [
      "<class 'pandas.core.frame.DataFrame'>\n",
      "RangeIndex: 188533 entries, 0 to 188532\n",
      "Data columns (total 13 columns):\n",
      " #   Column        Non-Null Count   Dtype \n",
      "---  ------        --------------   ----- \n",
      " 0   id            188533 non-null  int64 \n",
      " 1   brand         188533 non-null  object\n",
      " 2   model         188533 non-null  object\n",
      " 3   model_year    188533 non-null  int64 \n",
      " 4   milage        188533 non-null  int64 \n",
      " 5   fuel_type     183450 non-null  object\n",
      " 6   engine        188533 non-null  object\n",
      " 7   transmission  188533 non-null  object\n",
      " 8   ext_col       188533 non-null  object\n",
      " 9   int_col       188533 non-null  object\n",
      " 10  accident      186081 non-null  object\n",
      " 11  clean_title   167114 non-null  object\n",
      " 12  price         188533 non-null  int64 \n",
      "dtypes: int64(4), object(9)\n",
      "memory usage: 18.7+ MB\n"
     ]
    }
   ],
   "source": [
    "train.info()"
   ]
  },
  {
   "cell_type": "code",
   "execution_count": 7,
   "id": "612eaf44-5dd6-42d0-aef8-7fe4bc71dce3",
   "metadata": {},
   "outputs": [
    {
     "name": "stdout",
     "output_type": "stream",
     "text": [
      "Numeric features: ['model_year', 'milage']\n",
      "Categorical features: ['brand', 'model', 'fuel_type', 'engine', 'transmission', 'ext_col', 'int_col', 'accident', 'clean_title']\n"
     ]
    }
   ],
   "source": [
    "feature_cols = [c for c in train.columns if c not in ['price']]\n",
    "drop_cols = ['id']\n",
    "feature_cols = [c for c in feature_cols if c not in drop_cols]\n",
    "train = train.drop(columns=drop_cols)\n",
    "test = test.drop(columns = drop_cols)\n",
    "numeric_cols = []\n",
    "cat_cols = []\n",
    "\n",
    "# Checking for which features are numeric and categorical\n",
    "for c in feature_cols:\n",
    "    if c == 'ID':\n",
    "        continue\n",
    "    if pd.api.types.is_numeric_dtype(train[c]):\n",
    "        numeric_cols.append(c)\n",
    "    else:\n",
    "        cat_cols.append(c)\n",
    "\n",
    "print(\"Numeric features:\", numeric_cols)\n",
    "print(\"Categorical features:\", cat_cols)"
   ]
  },
  {
   "cell_type": "code",
   "execution_count": 9,
   "id": "6a7a0902-b947-4dd1-8575-52c126ed2b79",
   "metadata": {},
   "outputs": [
    {
     "data": {
      "text/html": [
       "<div>\n",
       "<style scoped>\n",
       "    .dataframe tbody tr th:only-of-type {\n",
       "        vertical-align: middle;\n",
       "    }\n",
       "\n",
       "    .dataframe tbody tr th {\n",
       "        vertical-align: top;\n",
       "    }\n",
       "\n",
       "    .dataframe thead th {\n",
       "        text-align: right;\n",
       "    }\n",
       "</style>\n",
       "<table border=\"1\" class=\"dataframe\">\n",
       "  <thead>\n",
       "    <tr style=\"text-align: right;\">\n",
       "      <th></th>\n",
       "      <th>Categorical Columns</th>\n",
       "      <th>Number of Unique Values in train</th>\n",
       "      <th>Number of unique values in test</th>\n",
       "    </tr>\n",
       "  </thead>\n",
       "  <tbody>\n",
       "    <tr>\n",
       "      <th>0</th>\n",
       "      <td>brand</td>\n",
       "      <td>57</td>\n",
       "      <td>55</td>\n",
       "    </tr>\n",
       "    <tr>\n",
       "      <th>1</th>\n",
       "      <td>model</td>\n",
       "      <td>1897</td>\n",
       "      <td>1891</td>\n",
       "    </tr>\n",
       "    <tr>\n",
       "      <th>2</th>\n",
       "      <td>fuel_type</td>\n",
       "      <td>7</td>\n",
       "      <td>7</td>\n",
       "    </tr>\n",
       "    <tr>\n",
       "      <th>3</th>\n",
       "      <td>engine</td>\n",
       "      <td>1117</td>\n",
       "      <td>1117</td>\n",
       "    </tr>\n",
       "    <tr>\n",
       "      <th>4</th>\n",
       "      <td>transmission</td>\n",
       "      <td>52</td>\n",
       "      <td>52</td>\n",
       "    </tr>\n",
       "    <tr>\n",
       "      <th>5</th>\n",
       "      <td>ext_col</td>\n",
       "      <td>319</td>\n",
       "      <td>317</td>\n",
       "    </tr>\n",
       "    <tr>\n",
       "      <th>6</th>\n",
       "      <td>int_col</td>\n",
       "      <td>156</td>\n",
       "      <td>156</td>\n",
       "    </tr>\n",
       "    <tr>\n",
       "      <th>7</th>\n",
       "      <td>accident</td>\n",
       "      <td>2</td>\n",
       "      <td>2</td>\n",
       "    </tr>\n",
       "    <tr>\n",
       "      <th>8</th>\n",
       "      <td>clean_title</td>\n",
       "      <td>1</td>\n",
       "      <td>1</td>\n",
       "    </tr>\n",
       "  </tbody>\n",
       "</table>\n",
       "</div>"
      ],
      "text/plain": [
       "  Categorical Columns  Number of Unique Values in train  \\\n",
       "0               brand                                57   \n",
       "1               model                              1897   \n",
       "2           fuel_type                                 7   \n",
       "3              engine                              1117   \n",
       "4        transmission                                52   \n",
       "5             ext_col                               319   \n",
       "6             int_col                               156   \n",
       "7            accident                                 2   \n",
       "8         clean_title                                 1   \n",
       "\n",
       "   Number of unique values in test  \n",
       "0                               55  \n",
       "1                             1891  \n",
       "2                                7  \n",
       "3                             1117  \n",
       "4                               52  \n",
       "5                              317  \n",
       "6                              156  \n",
       "7                                2  \n",
       "8                                1  "
      ]
     },
     "execution_count": 9,
     "metadata": {},
     "output_type": "execute_result"
    }
   ],
   "source": [
    "n_unique = []\n",
    "n_unique_ = []\n",
    "for col in cat_cols:\n",
    "    n_unique.append(train[col].nunique())\n",
    "    n_unique_.append(test[col].nunique())\n",
    "unique_df = pd.DataFrame({\n",
    "                            \"Categorical Columns\": cat_cols,\n",
    "                            \"Number of Unique Values in train\": n_unique,\n",
    "                            \"Number of unique values in test\": n_unique_\n",
    "                        })\n",
    "unique_df"
   ]
  },
  {
   "cell_type": "code",
   "execution_count": 11,
   "id": "ff8e3977-8c30-471e-93bb-af8e5e896abb",
   "metadata": {},
   "outputs": [
    {
     "name": "stdout",
     "output_type": "stream",
     "text": [
      "accident\n",
      "None reported                             144514\n",
      "At least 1 accident or damage reported     41567\n",
      "Name: count, dtype: int64\n",
      "% Null values in column 1.3005680703112983\n"
     ]
    }
   ],
   "source": [
    "print(train['accident'].value_counts()) \n",
    "print(\"% Null values in column\",(train['accident'].isna().sum()/train.shape[0])*100)\n",
    "# None reported -- 0\n",
    "#'At least 1 accident or damage reported'-1"
   ]
  },
  {
   "cell_type": "code",
   "execution_count": 13,
   "id": "eb629f09-86bb-4549-b5c6-ee1c2c16d754",
   "metadata": {},
   "outputs": [
    {
     "name": "stdout",
     "output_type": "stream",
     "text": [
      "clean_title\n",
      "Yes    167114\n",
      "Name: count, dtype: int64\n",
      "% Null values in column 11.360875814844086\n"
     ]
    }
   ],
   "source": [
    "print(train['clean_title'].value_counts())\n",
    "print(\"% Null values in column\",(train['clean_title'].isna().sum()/train.shape[0])*100)\n",
    "#nan- 0\n",
    "# Yes-1 "
   ]
  },
  {
   "cell_type": "code",
   "execution_count": 55,
   "id": "1fac8eb5-78c0-4069-99eb-59f7b317caee",
   "metadata": {},
   "outputs": [
    {
     "data": {
      "image/png": "[encoded data removed]",
      "text/plain": [
       "<Figure size 900x500 with 1 Axes>"
      ]
     },
     "metadata": {},
     "output_type": "display_data"
    }
   ],
   "source": [
    "x = train.groupby('fuel_type')[\"price\"].mean().sort_values()\n",
    "plt.figure(figsize=(9,5))\n",
    "plt.title(\"Price Vs. Fuel Type\")\n",
    "sns.barplot(x)\n",
    "plt.xlabel(\"Fuel Type\")\n",
    "plt.ylabel('Average Price')\n",
    "plt.show()"
   ]
  },
  {
   "cell_type": "markdown",
   "id": "3188f52f-ea2a-4c91-b833-a72ab4dad888",
   "metadata": {},
   "source": [
    "### Preprocessing"
   ]
  },
  {
   "cell_type": "code",
   "execution_count": 21,
   "id": "742167bf-cdb3-4b58-af6a-691b4ad343c2",
   "metadata": {},
   "outputs": [
    {
     "name": "stderr",
     "output_type": "stream",
     "text": [
      "C:\\Users\\IKECHUKWU_OKWUOSA\\AppData\\Local\\Temp\\ipykernel_19284\\2653294848.py:9: FutureWarning: A value is trying to be set on a copy of a DataFrame or Series through chained assignment using an inplace method.\n",
      "The behavior will change in pandas 3.0. This inplace method will never work because the intermediate object on which we are setting values always behaves as a copy.\n",
      "\n",
      "For example, when doing 'df[col].method(value, inplace=True)', try using 'df.method({col: value}, inplace=True)' or df[col] = df[col].method(value) instead, to perform the operation inplace on the original object.\n",
      "\n",
      "\n",
      "  df[col].fillna(mode_value, inplace=True)\n"
     ]
    }
   ],
   "source": [
    "drop_cols = ['id', 'clean_title']\n",
    "train = train.drop(columns=drop_cols)\n",
    "test = test.drop(columns = drop_cols)\n",
    "def filling_missing_values_in_categorical_columns(df):\n",
    "        categorical_cols_with_missing = ['accident', 'fuel_type'] \n",
    "        # You could fill missing values using the mode of each column. Feel free to choose your strategy\n",
    "        for col in categorical_cols_with_missing:\n",
    "            mode_value = df[col].mode()[0]\n",
    "            df[col].fillna(mode_value, inplace=True)\n",
    "        if 'clean_title' in df.columns:\n",
    "            df['clean_title'] = df['clean_title'].fillna(0)\n",
    "            df['clean_title'] = df['clean_title'].replace(\"Yes\", 1)\n",
    "        return df\n",
    "train = filling_missing_values_in_categorical_columns(train)\n",
    "test = filling_missing_values_in_categorical_columns(test)\n",
    "def categorical_encoding(df):\n",
    "    one_hot_cols = ['fuel_type']\n",
    "                    #['model', 'ext_col', 'int_col',  \"engine\"]\n",
    "    if 'accident' in df.columns:\n",
    "        accident_map = {'None reported':0, 'At least 1 accident or damage reported':1}\n",
    "        df['accident'] = df['accident'].map(accident_map)\n",
    "    #for col in one_hot_cols:\n",
    "    df = pd.get_dummies(df, columns=one_hot_cols)\n",
    "    # Changing dtype to category\n",
    "    cat_features=['model','brand' ,'ext_col', 'int_col',  \"engine\", \"transmission\"]\n",
    "    for feature in cat_features:\n",
    "        df[feature] = pd.Series(df[feature], dtype=\"category\")\n",
    "    return df\n",
    "train = categorical_encoding(train)\n",
    "test = categorical_encoding(test)"
   ]
  },
  {
   "cell_type": "markdown",
   "id": "548f9c87-43d6-4317-a9a5-ab77789f60cb",
   "metadata": {
    "jp-MarkdownHeadingCollapsed": true
   },
   "source": [
    "### Training Catboost model"
   ]
  },
  {
   "cell_type": "code",
   "execution_count": 33,
   "id": "449fc120-2d44-4c26-a89a-be5a94dba493",
   "metadata": {
    "collapsed": true,
    "jupyter": {
     "outputs_hidden": true
    }
   },
   "outputs": [
    {
     "name": "stderr",
     "output_type": "stream",
     "text": [
      "[I 2025-09-14 22:36:25,299] A new study created in memory with name: no-name-b0d65dad-2433-49bb-846e-f13424409f69\n",
      "C:\\Users\\IKECHUKWU_OKWUOSA\\anaconda3\\Lib\\site-packages\\sklearn\\metrics\\_regression.py:483: FutureWarning: 'squared' is deprecated in version 1.4 and will be removed in 1.6. To calculate the root mean squared error, use the function'root_mean_squared_error'.\n",
      "  warnings.warn(\n",
      "C:\\Users\\IKECHUKWU_OKWUOSA\\anaconda3\\Lib\\site-packages\\sklearn\\metrics\\_regression.py:483: FutureWarning: 'squared' is deprecated in version 1.4 and will be removed in 1.6. To calculate the root mean squared error, use the function'root_mean_squared_error'.\n",
      "  warnings.warn(\n",
      "[I 2025-09-14 22:37:52,238] Trial 0 finished with value: 73702.15084449243 and parameters: {'depth': 4, 'learning_rate': 0.1665544868588583, 'l2_leaf_reg': 2.304226619456639}. Best is trial 0 with value: 73702.15084449243.\n",
      "[W 2025-09-14 22:38:37,805] Trial 1 failed with parameters: {'depth': 5, 'learning_rate': 0.08435964238015778, 'l2_leaf_reg': 8.075105806962966} because of the following error: KeyboardInterrupt('').\n",
      "Traceback (most recent call last):\n",
      "  File \"C:\\Users\\IKECHUKWU_OKWUOSA\\anaconda3\\Lib\\site-packages\\optuna\\study\\_optimize.py\", line 196, in _run_trial\n",
      "    value_or_values = func(trial)\n",
      "                      ^^^^^^^^^^^\n",
      "  File \"C:\\Users\\IKECHUKWU_OKWUOSA\\AppData\\Local\\Temp\\ipykernel_19284\\1729565261.py\", line 23, in objective\n",
      "    model.fit(X_train, y_train)\n",
      "  File \"C:\\Users\\IKECHUKWU_OKWUOSA\\anaconda3\\Lib\\site-packages\\catboost\\core.py\", line 5807, in fit\n",
      "    return self._fit(X, y, cat_features, text_features, embedding_features, None, sample_weight, None, None, None, None, baseline,\n",
      "           ^^^^^^^^^^^^^^^^^^^^^^^^^^^^^^^^^^^^^^^^^^^^^^^^^^^^^^^^^^^^^^^^^^^^^^^^^^^^^^^^^^^^^^^^^^^^^^^^^^^^^^^^^^^^^^^^^^^^^^^\n",
      "  File \"C:\\Users\\IKECHUKWU_OKWUOSA\\anaconda3\\Lib\\site-packages\\catboost\\core.py\", line 2396, in _fit\n",
      "    self._train(\n",
      "  File \"C:\\Users\\IKECHUKWU_OKWUOSA\\anaconda3\\Lib\\site-packages\\catboost\\core.py\", line 1776, in _train\n",
      "    self._object._train(train_pool, test_pool, params, allow_clear_pool, init_model._object if init_model else None)\n",
      "  File \"_catboost.pyx\", line 4833, in _catboost._CatBoost._train\n",
      "  File \"_catboost.pyx\", line 4882, in _catboost._CatBoost._train\n",
      "KeyboardInterrupt\n",
      "[W 2025-09-14 22:38:37,807] Trial 1 failed with value None.\n",
      "\n",
      "KeyboardInterrupt\n",
      "\n"
     ]
    }
   ],
   "source": [
    "import optuna\n",
    "feature_col = [col for col in train.columns if col not in ['price']]\n",
    "X = train[feature_col]\n",
    "y = train['price']\n",
    "cat_features=['brand','model', 'ext_col', 'int_col',  \"engine\", \"transmission\"]\n",
    "def objective(trial):\n",
    "    params = {\n",
    "        'depth': trial.suggest_int('depth', 4, 10),\n",
    "        'learning_rate': trial.suggest_float('learning_rate', 0.01, 0.3, log=True),\n",
    "        'l2_leaf_reg': trial.suggest_float('l2_leaf_reg', 1e-3, 10.0, log=True),\n",
    "        'random_state': 42,\n",
    "        'verbose': 0\n",
    "    }\n",
    "\n",
    "    cv = KFold(n_splits=2, shuffle=True, random_state=42)\n",
    "    rmse_scores = []\n",
    "\n",
    "    for train_idx, test_idx in cv.split(X, y):\n",
    "        X_train, X_test = X.iloc[train_idx], X.iloc[test_idx]\n",
    "        y_train, y_test = y.iloc[train_idx], y.iloc[test_idx]\n",
    "\n",
    "        model = CatBoostRegressor(**params, cat_features=cat_features)\n",
    "        model.fit(X_train, y_train)\n",
    "        preds = model.predict(X_test)\n",
    "        rmse = mean_squared_error(y_test, preds, squared=False)\n",
    "        rmse_scores.append(rmse)\n",
    "\n",
    "    return np.mean(rmse_scores)\n",
    "study = optuna.create_study(direction='minimize')\n",
    "study.optimize(objective, n_trials=5)\n",
    "\n",
    "print(\"Best RMSE:\", study.best_value)\n",
    "print(\"Best Parameters:\", study.best_params)\n"
   ]
  },
  {
   "cell_type": "code",
   "execution_count": 37,
   "id": "9be4f220-ff82-42d0-8ec6-9525baadd243",
   "metadata": {},
   "outputs": [
    {
     "name": "stderr",
     "output_type": "stream",
     "text": [
      "C:\\Users\\IKECHUKWU_OKWUOSA\\anaconda3\\Lib\\site-packages\\sklearn\\metrics\\_regression.py:483: FutureWarning: 'squared' is deprecated in version 1.4 and will be removed in 1.6. To calculate the root mean squared error, use the function'root_mean_squared_error'.\n",
      "  warnings.warn(\n",
      "C:\\Users\\IKECHUKWU_OKWUOSA\\anaconda3\\Lib\\site-packages\\sklearn\\metrics\\_regression.py:483: FutureWarning: 'squared' is deprecated in version 1.4 and will be removed in 1.6. To calculate the root mean squared error, use the function'root_mean_squared_error'.\n",
      "  warnings.warn(\n",
      "C:\\Users\\IKECHUKWU_OKWUOSA\\anaconda3\\Lib\\site-packages\\sklearn\\metrics\\_regression.py:483: FutureWarning: 'squared' is deprecated in version 1.4 and will be removed in 1.6. To calculate the root mean squared error, use the function'root_mean_squared_error'.\n",
      "  warnings.warn(\n",
      "C:\\Users\\IKECHUKWU_OKWUOSA\\anaconda3\\Lib\\site-packages\\sklearn\\metrics\\_regression.py:483: FutureWarning: 'squared' is deprecated in version 1.4 and will be removed in 1.6. To calculate the root mean squared error, use the function'root_mean_squared_error'.\n",
      "  warnings.warn(\n"
     ]
    },
    {
     "name": "stdout",
     "output_type": "stream",
     "text": [
      "RMSE per fold: [68143.59420972194, 68749.09801380835, 74078.21221253747, 76591.7342917384, 76544.23325270202]\n",
      "Average RMSE for all folds:  72821.37439610164\n"
     ]
    },
    {
     "name": "stderr",
     "output_type": "stream",
     "text": [
      "C:\\Users\\IKECHUKWU_OKWUOSA\\anaconda3\\Lib\\site-packages\\sklearn\\metrics\\_regression.py:483: FutureWarning: 'squared' is deprecated in version 1.4 and will be removed in 1.6. To calculate the root mean squared error, use the function'root_mean_squared_error'.\n",
      "  warnings.warn(\n"
     ]
    }
   ],
   "source": [
    "feature_col = [col for col in train.columns if col not in ['price']]\n",
    "X = train[feature_col]\n",
    "y = train['price']\n",
    "cv = KFold(n_splits=5, shuffle=True, random_state=42)\n",
    "scores =[]\n",
    "catboost_preds = []\n",
    "for train_idx, test_idx in cv.split(X, y):\n",
    "    X_train, X_test = X.iloc[train_idx], X.iloc[test_idx]\n",
    "    y_train, y_test = y[train_idx], y[test_idx]\n",
    "    params = {\n",
    "                'depth': 6,\n",
    "                'learning_rate': 0.05,\n",
    "                'iterations': 500,\n",
    "                'l2_leaf_reg': 3,\n",
    "                'bagging_temperature': 0.5,\n",
    "                'border_count': 64,\n",
    "                'random_state': 42,\n",
    "                'verbose': 0\n",
    "            }\n",
    "    \n",
    "    catboost_model = CatBoostRegressor(**params, \n",
    "                                       cat_features=['brand','model', 'ext_col', 'int_col',  \"engine\", \"transmission\"])\n",
    "    catboost_model.fit(X_train, y_train)\n",
    "    y_pred = catboost_model.predict(X_test)\n",
    "    catboost_preds.append(y_pred)\n",
    "    rmse = mean_squared_error(y_test, y_pred, squared=False)\n",
    "    scores.append(rmse)\n",
    "print(\"RMSE per fold:\", scores)\n",
    "print(\"Average RMSE for all folds: \", np.mean(scores))\n",
    "\n"
   ]
  },
  {
   "cell_type": "markdown",
   "id": "b375293c-7dd9-4a8c-84e5-437c4465b82d",
   "metadata": {},
   "source": [
    "RMSE per fold: [68274.94132524655, 68986.55123810688, 74175.08645967448, 76623.79112739969, 76573.29612577966]\r\n",
    "Average RMSE for all folds:  72926.73325524144"
   ]
  },
  {
   "cell_type": "code",
   "execution_count": 39,
   "id": "d26bd18a-252a-4a28-a658-de0f53af67c3",
   "metadata": {},
   "outputs": [
    {
     "data": {
      "image/png": "[encoded data removed]",
      "text/plain": [
       "<Figure size 1200x1000 with 1 Axes>"
      ]
     },
     "metadata": {},
     "output_type": "display_data"
    }
   ],
   "source": [
    "# Getting feature importances from the best trained model\n",
    "feature_importances = catboost_model.feature_importances_\n",
    "# Creating a pandas DataFrame to store the feature importances along with the feature names\n",
    "tip= train.drop(columns=['price'])\n",
    "importance_df = pd.DataFrame({\"Feature\": tip.columns, \"Importance\": feature_importances})\n",
    "# Sorting the DataFrame in descending order of importance\n",
    "importance_df = importance_df.sort_values(by=\"Importance\", ascending=False)\n",
    "importance_df[\"% Importance\"] = importance_df[\"Importance\"]* 100\n",
    "# Creating the plot\n",
    "plt.figure(figsize=(12, 10))\n",
    "sns.barplot(data = importance_df,x=\"Importance\", y=\"Feature\",orient=\"h\")\n",
    "plt.xlabel(\"% Feature Importance\",fontsize=15,fontweight =\"bold\")\n",
    "plt.ylabel(\"Features\",fontsize=15,fontweight =\"bold\")\n",
    "plt.title(\"Feature Importance Using Catboost Model\",fontsize=18, fontweight =\"bold\" )\n",
    "#plt.savefig(\"oil_feature.jpg\", format=\"jpeg\", quality=95,dpi = 300)\n",
    "plt.show()\n"
   ]
  },
  {
   "cell_type": "code",
   "execution_count": 45,
   "id": "c4c63d3a-b4b9-49e1-b800-69e9717da048",
   "metadata": {},
   "outputs": [],
   "source": [
    "pred = catboost_model.predict(test)\n",
    "submission=pd.DataFrame({\"id\":test_data['id'],\"Price\":pred})\n",
    "submission.to_csv(\"Submission.csv\",index=False)"
   ]
  },
  {
   "cell_type": "code",
   "execution_count": null,
   "id": "4481b601-0c37-465a-b357-c37a368b13c7",
   "metadata": {},
   "outputs": [],
   "source": []
  }
 ],
 "metadata": {
  "kernelspec": {
   "display_name": "Python 3 (ipykernel)",
   "language": "python",
   "name": "python3"
  },
  "language_info": {
   "codemirror_mode": {
    "name": "ipython",
    "version": 3
   },
   "file_extension": ".py",
   "mimetype": "text/x-python",
   "name": "python",
   "nbconvert_exporter": "python",
   "pygments_lexer": "ipython3",
   "version": "3.12.4"
  }
 },
 "nbformat": 4,
 "nbformat_minor": 5
}
